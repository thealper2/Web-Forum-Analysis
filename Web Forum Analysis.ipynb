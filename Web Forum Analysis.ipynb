{
 "cells": [
  {
   "cell_type": "code",
   "execution_count": null,
   "id": "4385a7ec",
   "metadata": {},
   "outputs": [],
   "source": [
    "import numpy as np\n",
    "import pandas as pd"
   ]
  },
  {
   "cell_type": "code",
   "execution_count": null,
   "id": "a3eda106",
   "metadata": {},
   "outputs": [],
   "source": [
    "df = pd.read_csv('afghanForum.csv', error_bad_lines=False)\n",
    "df.head()"
   ]
  },
  {
   "cell_type": "code",
   "execution_count": null,
   "id": "1387030b",
   "metadata": {},
   "outputs": [],
   "source": [
    "df.shape"
   ]
  },
  {
   "cell_type": "code",
   "execution_count": null,
   "id": "d505f4f8",
   "metadata": {},
   "outputs": [],
   "source": [
    "df.isnull().sum()"
   ]
  },
  {
   "cell_type": "code",
   "execution_count": null,
   "id": "eb451436",
   "metadata": {},
   "outputs": [],
   "source": [
    "messages = df[[\"Message\"]]"
   ]
  },
  {
   "cell_type": "code",
   "execution_count": null,
   "id": "7513a18e",
   "metadata": {},
   "outputs": [],
   "source": [
    "import textblob\n",
    "import re\n",
    "import nltk\n",
    "import string\n",
    "from collections import Counter"
   ]
  },
  {
   "cell_type": "code",
   "execution_count": null,
   "id": "d3a0f1e4",
   "metadata": {},
   "outputs": [],
   "source": [
    "import matplotlib.pyplot as plt\n",
    "import seaborn as sns"
   ]
  },
  {
   "cell_type": "code",
   "execution_count": null,
   "id": "d226a725",
   "metadata": {},
   "outputs": [],
   "source": [
    "def word_freq(messages, TEXTS):\n",
    "    freq_df = messages\n",
    "    freq_words = freq_df[TEXTS].tolist()\n",
    "    freq_words = [i.lower() for i in freq_words]\n",
    "    freq_punc = []\n",
    "    \n",
    "    for o in freq_words:\n",
    "        freq_punc += nltk.word_tokenize(o)\n",
    "        \n",
    "    freq_punc = [o for o in freq_punc if o not in string.punctuation]\n",
    "    freq_freq = Counter(freq_punc)\n",
    "    \n",
    "    freq_top = freq_freq.most_common(20)\n",
    "    words = [word for word, _ in freq_top]\n",
    "    counts = [counts for _, counts in freq_top]\n",
    "    \n",
    "    plt.bar(words, counts)\n",
    "    plt.title(\"MOST COMMON 20 WORDS\")\n",
    "    plt.ylabel(\"Frequency\")\n",
    "    plt.xlabel(\"Words\")\n",
    "    plt.xticks(rotation=90)\n",
    "    plt.show()\n",
    "    \n",
    "    return freq_top"
   ]
  },
  {
   "cell_type": "code",
   "execution_count": null,
   "id": "86d9a9c8",
   "metadata": {},
   "outputs": [],
   "source": [
    "freq_top = word_freq(messages, 'Message')"
   ]
  },
  {
   "cell_type": "code",
   "execution_count": null,
   "id": "3a041ec3",
   "metadata": {},
   "outputs": [],
   "source": [
    "from wordcloud import WordCloud"
   ]
  },
  {
   "cell_type": "code",
   "execution_count": null,
   "id": "ad716b2d",
   "metadata": {},
   "outputs": [],
   "source": [
    "def print_wordcloud(dict_top):\n",
    "    dict_top = dict(dict_top)\n",
    "    wordcloud = WordCloud(\n",
    "        width=500, \n",
    "        height=500, \n",
    "        background_color='white', \n",
    "        min_font_size=5).generate_from_frequencies(dict_top)\n",
    "    \n",
    "    plt.figure()\n",
    "    plt.imshow(wordcloud)\n",
    "    plt.axis(\"off\")\n",
    "    plt.tight_layout(pad=0)\n",
    "    plt.show()"
   ]
  },
  {
   "cell_type": "code",
   "execution_count": null,
   "id": "07a9d840",
   "metadata": {},
   "outputs": [],
   "source": [
    "print_wordcloud(freq_top)"
   ]
  },
  {
   "cell_type": "code",
   "execution_count": null,
   "id": "d116fd8e",
   "metadata": {},
   "outputs": [],
   "source": [
    "from nltk.corpus import stopwords\n",
    "stop_words_list = stopwords.words('english')"
   ]
  },
  {
   "cell_type": "code",
   "execution_count": null,
   "id": "6555918b",
   "metadata": {},
   "outputs": [],
   "source": [
    "def preprocess_text(text):\n",
    "    text = text.lower()\n",
    "    text = re.sub(r'\\n', ' ', text)\n",
    "    text = re.sub(r'\\d', ' ', text)\n",
    "    text = text.translate(str.maketrans(\"\", \"\", string.punctuation))\n",
    "    words = text.split()\n",
    "    words = [word for word in words if not word in stop_words_list]\n",
    "    words = [re.sub(r'(.)\\1{1,}', r'\\1\\1', word) for word in words]\n",
    "    words = [word.strip() for word in words if len(word.strip()) > 1]\n",
    "    text = ' '.join(words)\n",
    "    return text"
   ]
  },
  {
   "cell_type": "code",
   "execution_count": null,
   "id": "de54f150",
   "metadata": {},
   "outputs": [],
   "source": [
    "messages['cleaned'] = messages['Message'].apply(preprocess_text)"
   ]
  },
  {
   "cell_type": "code",
   "execution_count": null,
   "id": "ce6682b7",
   "metadata": {},
   "outputs": [],
   "source": [
    "messages.head()"
   ]
  },
  {
   "cell_type": "code",
   "execution_count": null,
   "id": "f909935c",
   "metadata": {},
   "outputs": [],
   "source": [
    "def get_message_sentiment(message):\n",
    "    analysis = textblob.TextBlob(message)\n",
    "    if analysis.sentiment.polarity > 0:\n",
    "        return 'POSITIVE'\n",
    "    elif analysis.sentiment.polarity == 0:\n",
    "        return 'NEUTRAL'\n",
    "    else:\n",
    "        return 'NEGATIVE'"
   ]
  },
  {
   "cell_type": "code",
   "execution_count": null,
   "id": "c528dea6",
   "metadata": {},
   "outputs": [],
   "source": [
    "messages[\"sentiment\"] = messages[\"cleaned\"].apply(get_message_sentiment)"
   ]
  },
  {
   "cell_type": "code",
   "execution_count": null,
   "id": "2d0a7068",
   "metadata": {},
   "outputs": [],
   "source": [
    "messages.head()"
   ]
  },
  {
   "cell_type": "code",
   "execution_count": null,
   "id": "7cdc96af",
   "metadata": {},
   "outputs": [],
   "source": [
    "messages.sentiment.value_counts().plot(kind='pie', autopct='%.2f%%')"
   ]
  },
  {
   "cell_type": "code",
   "execution_count": null,
   "id": "972c0d95",
   "metadata": {},
   "outputs": [],
   "source": [
    "from sklearn.preprocessing import LabelEncoder"
   ]
  },
  {
   "cell_type": "code",
   "execution_count": null,
   "id": "d1b72a93",
   "metadata": {},
   "outputs": [],
   "source": [
    "def label_encoder(column):\n",
    "    le = LabelEncoder().fit(column)\n",
    "    print(column.name, le.classes_)\n",
    "    return le.transform(column)"
   ]
  },
  {
   "cell_type": "code",
   "execution_count": null,
   "id": "f2c7be8b",
   "metadata": {},
   "outputs": [],
   "source": [
    "messages[\"sentiment\"] = label_encoder(messages[\"sentiment\"])"
   ]
  },
  {
   "cell_type": "code",
   "execution_count": null,
   "id": "da97f25a",
   "metadata": {},
   "outputs": [],
   "source": [
    "messages.head()"
   ]
  },
  {
   "cell_type": "code",
   "execution_count": null,
   "id": "79f64240",
   "metadata": {},
   "outputs": [],
   "source": [
    "X = messages[\"cleaned\"]\n",
    "y = messages[\"sentiment\"]"
   ]
  },
  {
   "cell_type": "code",
   "execution_count": null,
   "id": "0623fc6b",
   "metadata": {},
   "outputs": [],
   "source": [
    "from sklearn.model_selection import train_test_split\n",
    "X_train, X_test, y_train, y_test = train_test_split(X, y, test_size=0.3, random_state=42)"
   ]
  },
  {
   "cell_type": "code",
   "execution_count": null,
   "id": "a1e30337",
   "metadata": {},
   "outputs": [],
   "source": [
    "print(\"X train: \", X_train.shape)\n",
    "print(\"X test: \", X_test.shape)\n",
    "print(\"Y train: \", y_train.shape)\n",
    "print(\"Y test: \", y_test.shape)"
   ]
  },
  {
   "cell_type": "code",
   "execution_count": null,
   "id": "26a7523f",
   "metadata": {},
   "outputs": [],
   "source": [
    "from sklearn.feature_extraction.text import TfidfVectorizer, CountVectorizer"
   ]
  },
  {
   "cell_type": "code",
   "execution_count": null,
   "id": "a05b0bda",
   "metadata": {},
   "outputs": [],
   "source": [
    "tfidf = TfidfVectorizer()\n",
    "X_train_tfidf = tfidf.fit_transform(X_train)\n",
    "X_test_tfidf = tfidf.transform(X_test)"
   ]
  },
  {
   "cell_type": "code",
   "execution_count": null,
   "id": "7c5f3a97",
   "metadata": {},
   "outputs": [],
   "source": [
    "cv = CountVectorizer()\n",
    "X_train_cv = cv.fit_transform(X_train)\n",
    "X_test_cv = cv.transform(X_test)"
   ]
  },
  {
   "cell_type": "code",
   "execution_count": null,
   "id": "2624a9d9",
   "metadata": {},
   "outputs": [],
   "source": [
    "from sklearn.ensemble import RandomForestClassifier\n",
    "from sklearn.metrics import accuracy_score, confusion_matrix"
   ]
  },
  {
   "cell_type": "code",
   "execution_count": null,
   "id": "eec43da7",
   "metadata": {},
   "outputs": [],
   "source": [
    "rf_tfidf = RandomForestClassifier()\n",
    "rf_tfidf.fit(X_train_tfidf, y_train)\n",
    "pred_rf_tfidf = rf_tfidf.predict(X_test_tfidf)\n",
    "ac_rf_tfidf = accuracy_score(pred_rf_tfidf, y_test)\n",
    "print(\"RF-TFIDF Accuracy Score: \", ac_rf_tfidf)"
   ]
  },
  {
   "cell_type": "code",
   "execution_count": null,
   "id": "07ad5893",
   "metadata": {},
   "outputs": [],
   "source": [
    "cm = confusion_matrix(pred_rf_tfidf, y_test)\n",
    "sns.heatmap(cm, annot=True, fmt=\".2f\", cmap=\"Pastel1\")"
   ]
  },
  {
   "cell_type": "code",
   "execution_count": null,
   "id": "f042a9f0",
   "metadata": {},
   "outputs": [],
   "source": [
    "rf_cv = RandomForestClassifier()\n",
    "rf_cv.fit(X_train_cv, y_train)\n",
    "pred_rf_cv = rf_cv.predict(X_test_cv)\n",
    "ac_rf_cv = accuracy_score(pred_rf_cv, y_test)\n",
    "print(\"RF-CV Accuracy Score: \", ac_rf_cv)"
   ]
  },
  {
   "cell_type": "code",
   "execution_count": null,
   "id": "be26944f",
   "metadata": {},
   "outputs": [],
   "source": [
    "cm = confusion_matrix(pred_rf_cv, y_test)\n",
    "sns.heatmap(cm, annot=True, fmt=\".2f\", cmap=\"Pastel1\")"
   ]
  },
  {
   "cell_type": "code",
   "execution_count": null,
   "id": "9282d31b",
   "metadata": {},
   "outputs": [],
   "source": [
    "from sklearn.tree import DecisionTreeClassifier"
   ]
  },
  {
   "cell_type": "code",
   "execution_count": null,
   "id": "2150049d",
   "metadata": {},
   "outputs": [],
   "source": [
    "dt_tfidf = DecisionTreeClassifier()\n",
    "dt_tfidf.fit(X_train_tfidf, y_train)\n",
    "pred_dt_tfidf = dt_tfidf.predict(X_test_tfidf)\n",
    "ac_dt_tfidf = accuracy_score(pred_dt_tfidf, y_test)\n",
    "print(\"DT-TFIDF Accuracy Score: \", ac_dt_tfidf)"
   ]
  },
  {
   "cell_type": "code",
   "execution_count": null,
   "id": "8f9d4aba",
   "metadata": {},
   "outputs": [],
   "source": [
    "cm = confusion_matrix(pred_dt_tfidf, y_test)\n",
    "sns.heatmap(cm, annot=True, fmt=\".2f\", cmap=\"Pastel1\")"
   ]
  },
  {
   "cell_type": "code",
   "execution_count": null,
   "id": "f4a43347",
   "metadata": {},
   "outputs": [],
   "source": [
    "dt_cv = DecisionTreeClassifier()\n",
    "dt_cv.fit(X_train_cv, y_train)\n",
    "pred_dt_cv = dt_cv.predict(X_test_cv)\n",
    "ac_dt_cv = accuracy_score(pred_dt_cv, y_test)\n",
    "print(\"DT-CV Accuracy Score: \", ac_dt_cv)"
   ]
  },
  {
   "cell_type": "code",
   "execution_count": null,
   "id": "55460d62",
   "metadata": {},
   "outputs": [],
   "source": [
    "cm = confusion_matrix(pred_dt_cv, y_test)\n",
    "sns.heatmap(cm, annot=True, fmt=\".2f\", cmap=\"Pastel1\")"
   ]
  },
  {
   "cell_type": "code",
   "execution_count": null,
   "id": "7200767e",
   "metadata": {},
   "outputs": [],
   "source": [
    "from sklearn.naive_bayes import MultinomialNB"
   ]
  },
  {
   "cell_type": "code",
   "execution_count": null,
   "id": "54c13b37",
   "metadata": {},
   "outputs": [],
   "source": [
    "mnb_tfidf = MultinomialNB()\n",
    "mnb_tfidf.fit(X_train_tfidf, y_train)\n",
    "pred_mnb_tfidf = mnb_tfidf.predict(X_test_tfidf)\n",
    "ac_mnb_tfidf = accuracy_score(pred_mnb_tfidf, y_test)\n",
    "print(\"MNB-TFIDF Accuracy Score: \", ac_mnb_tfidf)"
   ]
  },
  {
   "cell_type": "code",
   "execution_count": null,
   "id": "efeb3a55",
   "metadata": {},
   "outputs": [],
   "source": [
    "mnb_cv = MultinomialNB()\n",
    "mnb_cv.fit(X_train_cv, y_train)\n",
    "pred_mnb_cv = mnb_cv.predict(X_test_cv)\n",
    "ac_mnb_cv = accuracy_score(pred_mnb_cv, y_test)\n",
    "print(\"MNB-CV Accuracy Score: \", ac_mnb_cv)"
   ]
  },
  {
   "cell_type": "code",
   "execution_count": null,
   "id": "4fc661f3",
   "metadata": {},
   "outputs": [],
   "source": [
    "models_and_scores = {\n",
    "    \"RF-TFIDF\": ac_rf_tfidf,\n",
    "    \"RF-CV\": ac_rf_cv,\n",
    "    \"DT-TFIDF\": ac_dt_tfidf,\n",
    "    \"DT-CV\": ac_dt_cv,\n",
    "    \"MNB-TFIDF\": ac_mnb_tfidf,\n",
    "    \"MNB-CV\": ac_mnb_cv\n",
    "}"
   ]
  },
  {
   "cell_type": "code",
   "execution_count": null,
   "id": "cd8d4d13",
   "metadata": {},
   "outputs": [],
   "source": [
    "plt.bar(*zip(*models_and_scores.items()))"
   ]
  },
  {
   "cell_type": "code",
   "execution_count": null,
   "id": "55a63fac",
   "metadata": {},
   "outputs": [],
   "source": []
  }
 ],
 "metadata": {
  "kernelspec": {
   "display_name": "Python 3 (ipykernel)",
   "language": "python",
   "name": "python3"
  },
  "language_info": {
   "codemirror_mode": {
    "name": "ipython",
    "version": 3
   },
   "file_extension": ".py",
   "mimetype": "text/x-python",
   "name": "python",
   "nbconvert_exporter": "python",
   "pygments_lexer": "ipython3",
   "version": "3.10.12"
  }
 },
 "nbformat": 4,
 "nbformat_minor": 5
}
